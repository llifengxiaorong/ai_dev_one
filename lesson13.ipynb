{
 "cells": [
  {
   "cell_type": "code",
   "execution_count": 27,
   "id": "32b506e5-2c6d-408e-a60b-da30ab11b06d",
   "metadata": {},
   "outputs": [],
   "source": [
    "from openai import OpenAI\n",
    "import re\n",
    "client = OpenAI(\n",
    "  api_key=\"sk-b8fbb063539a4a4d825049c0b12cb390\",\n",
    "  base_url=\"https://api.deepseek.com/v1\"\n",
    ")"
   ]
  },
  {
   "cell_type": "code",
   "execution_count": 28,
   "id": "7421cd11-2382-414c-9c3a-81496e4e9172",
   "metadata": {},
   "outputs": [],
   "source": [
    "DEFAULT_MODEL=\"deepseek-chat\""
   ]
  },
  {
   "cell_type": "code",
   "execution_count": 22,
   "id": "3b24c7cf-7cb2-43bb-afcb-03ed9a0d9337",
   "metadata": {},
   "outputs": [
    {
     "name": "stdout",
     "output_type": "stream",
     "text": [
      "Hello! How can I assist you today? 😊\n"
     ]
    }
   ],
   "source": [
    "# response = client.chat.completions.create(\n",
    "#     model=\"deepseek-chat\",\n",
    "#     messages=[\n",
    "#         {\"role\": \"system\", \"content\": \"You are a helpful assistant\"},\n",
    "#         {\"role\": \"user\", \"content\": \"Hell0\"}\n",
    "#     ],\n",
    "#     stream=False\n",
    "# )\n",
    "# print(response.choices[0].message.content)"
   ]
  },
  {
   "cell_type": "code",
   "execution_count": 29,
   "id": "d611302a-0dec-4462-9bf5-7467ef60a766",
   "metadata": {},
   "outputs": [],
   "source": [
    "class Agent:\n",
    "    def __init__(self, system=\"\"):\n",
    "        self.system = system\n",
    "        self.messages = []\n",
    "        if self.system:\n",
    "            self.messages.append({\"role\": \"system\", \"content\": system})\n",
    "\n",
    "    def invoke(self, message):\n",
    "        self.messages.append({\"role\": \"user\", \"content\": message})\n",
    "        result = self.execute()\n",
    "        self.messages.append({\"role\": \"assistant\", \"content\": result})\n",
    "        return result\n",
    "\n",
    "    def execute(self):\n",
    "        completion = client.chat.completions.create(\n",
    "            model =  DEFAULT_MODEL,\n",
    "            messages= self.messages,\n",
    "            temperature= 0\n",
    "        )\n",
    "        return completion.choices[0].message.content"
   ]
  },
  {
   "cell_type": "code",
   "execution_count": 30,
   "id": "eeba2926-994b-4dd0-aa55-3f38e5d07c22",
   "metadata": {},
   "outputs": [],
   "source": [
    "prompt = \"\"\"\n",
    "You run in a loop of Thought, Action, PAUSE, Observation.\n",
    "At the end of the loop you output an Answer\n",
    "Use Thought to describe your thoughts about the question you have been asked.\n",
    "Use Action to run one of the actions available to you - then return PAUSE.\n",
    "Observation will be the result of running those actions.\n",
    "\n",
    "Your available actions are:\n",
    "\n",
    "calculate:\n",
    "e.g. calculate: 4 * 7 / 3\n",
    "Runs a calculation and returns the number - uses Python so be sure to use floating point syntax if necessary\n",
    "\n",
    "ask_fruit_unit_price:\n",
    "e.g. ask_fruit_unit_price: apple\n",
    "Asks the user for the price of a fruit\n",
    "\n",
    "Example session:\n",
    "\n",
    "Question: What is the unit price of apple?\n",
    "Thought: I need to ask the user for the price of an apple to provide the unit price. \n",
    "Action: ask_fruit_unit_price: apple\n",
    "PAUSE\n",
    "\n",
    "You will be called again with this:\n",
    "\n",
    "Observation: Apple unit price is 10/kg\n",
    "\n",
    "You then output:\n",
    "\n",
    "Answer: The unit price of apple is 10 per kg.\n",
    "\"\"\".strip()"
   ]
  },
  {
   "cell_type": "code",
   "execution_count": 39,
   "id": "1c163994-fa20-4258-bc33-881d0e562db7",
   "metadata": {},
   "outputs": [],
   "source": [
    "def calculate(what):\n",
    "    return eval(what)\n",
    "\n",
    "def ask_fruit_unit_price(fruit):\n",
    "    if fruit.casefold() == \"apple\":\n",
    "        return \"Apple unit price is 10/kg\"\n",
    "    elif fruit.casefold() == \"banana\":\n",
    "        return \"Banana unit price is 6/kg\"\n",
    "    else: return \"{} unit price is 20/kg\".format(fruit)"
   ]
  },
  {
   "cell_type": "code",
   "execution_count": 40,
   "id": "8622a42c-b3d9-411d-8136-a9c881e49633",
   "metadata": {},
   "outputs": [],
   "source": [
    "action_re=re.compile(r'^Action: (\\w+): (.*)$')\n",
    "known_actions = {\n",
    "    \"calculate\": calculate, \n",
    "    \"ask_fruit_unit_price\": ask_fruit_unit_price\n",
    "}\n",
    "\n",
    "def query(question, max_turn=5):\n",
    "    i=0\n",
    "    agent=Agent(prompt)\n",
    "    next_prompt=question\n",
    "    while i< max_turn:\n",
    "        i += 1\n",
    "        result = agent.invoke(next_prompt)\n",
    "        print(result)\n",
    "        actions = [action_re.match(a) for a in result.split('\\n') if action_re.match(a)]\n",
    "        if actions:\n",
    "            action, action_input = actions[0].groups()\n",
    "            if action not in known_actions:\n",
    "                return Exception(\"Unknown action: {}: {}\".format(action, action_input))\n",
    "            print(\" -- running {} {}\".format(action, action_input))\n",
    "            observation = known_actions[action](action_input)\n",
    "            print(\"Observation:\", observation)\n",
    "            next_prompt = \"Observation: {}\".format(observation)\n",
    "        else:\n",
    "            return"
   ]
  },
  {
   "cell_type": "code",
   "execution_count": 41,
   "id": "dda8d609-3005-4906-ab98-c3337c3154ef",
   "metadata": {},
   "outputs": [
    {
     "name": "stdout",
     "output_type": "stream",
     "text": [
      "Thought: To calculate the total price, I need to know the unit prices of both apples and bananas. I will ask the user for the unit price of apples and bananas first.\n",
      "Action: ask_fruit_unit_price: apple\n",
      "PAUSE\n",
      " -- running ask_fruit_unit_price apple\n",
      "Observation: Apple unit price is 10/kg\n",
      "Thought: I have the unit price of apples (10/kg). Now I need the unit price of bananas to proceed with the calculation.\n",
      "Action: ask_fruit_unit_price: banana\n",
      "PAUSE\n",
      " -- running ask_fruit_unit_price banana\n",
      "Observation: Banana unit price is 6/kg\n",
      "Thought: I now have the unit prices for both apples (10/kg) and bananas (6/kg). I will calculate the total price for 3kg of apples and 2kg of bananas.\n",
      "Action: calculate: (3 * 10) + (2 * 6)\n",
      "PAUSE\n",
      " -- running calculate (3 * 10) + (2 * 6)\n",
      "Observation: 42\n",
      "Answer: The total price of 3kg of apples and 2kg of bananas is 42.\n"
     ]
    }
   ],
   "source": [
    "query(\"What is the total price of 3kg of apple and 2kg of banana?\")"
   ]
  },
  {
   "cell_type": "code",
   "execution_count": null,
   "id": "3a93ef4e-bd60-4be9-bb0a-8e781e0ec59e",
   "metadata": {},
   "outputs": [],
   "source": []
  }
 ],
 "metadata": {
  "kernelspec": {
   "display_name": "Python 3 (ipykernel)",
   "language": "python",
   "name": "python3"
  },
  "language_info": {
   "codemirror_mode": {
    "name": "ipython",
    "version": 3
   },
   "file_extension": ".py",
   "mimetype": "text/x-python",
   "name": "python",
   "nbconvert_exporter": "python",
   "pygments_lexer": "ipython3",
   "version": "3.11.8"
  }
 },
 "nbformat": 4,
 "nbformat_minor": 5
}
